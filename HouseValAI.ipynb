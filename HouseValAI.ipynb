{
 "cells": [
  {
   "cell_type": "markdown",
   "id": "c2d88347-479d-4a0a-a298-daa639dd2851",
   "metadata": {},
   "source": [
    "# HouseValAI - Predicting California Housing Prices (Machine Learning Project)\n",
    "An end-to-end regression model predicting California housing prices using Linear, Ridge, Lasso, and Random Forest\n"
   ]
  },
  {
   "cell_type": "markdown",
   "id": "b41ca07f-d205-438e-b69e-57d28c5d1888",
   "metadata": {},
   "source": [
    "## Project Overview\n",
    "This project aims to **predict median housing prices** using demographic and geographic data.  \n",
    "The dataset includes variables such as income, population, total rooms, and proximity to the ocean.  \n",
    "It demonstrates the **complete machine learning pipeline** — from data loading to model evaluation.\n",
    "\n",
    "---"
   ]
  },
  {
   "cell_type": "markdown",
   "id": "8f540d58-d662-44a6-9d13-12bc448b3af2",
   "metadata": {},
   "source": [
    "## Problem Definition\n",
    "> Given housing data with multiple features (location, income, and demographics),  \n",
    "> build a regression model to predict **`median_house_value`**.\n",
    "\n",
    "- **Type:** Supervised Regression  \n",
    "- **Goal:** Estimate continuous housing price values  \n",
    "- **Dataset Source:** California housing data (Excel format)\n",
    "\n",
    "---\n"
   ]
  },
  {
   "cell_type": "markdown",
   "id": "e83f17f9-3477-4826-a22a-5831ecbe8598",
   "metadata": {},
   "source": [
    "## Dataset Summary\n",
    "\n",
    "| Feature | Description |\n",
    "|----------|-------------|\n",
    "| longitude | Geographic coordinate (west-east) |\n",
    "| latitude | Geographic coordinate (north-south) |\n",
    "| housing_median_age | Median age of houses in the block |\n",
    "| total_rooms | Total number of rooms |\n",
    "| total_bedrooms | Total number of bedrooms |\n",
    "| population | Population in the block |\n",
    "| households | Number of households |\n",
    "| median_income | Median income of residents |\n",
    "| ocean_proximity | Categorical feature (distance to ocean) |\n",
    "| median_house_value | **Target variable** – housing price |\n",
    "\n",
    "- **Rows:** ~18,500  \n",
    "- **Columns:** 10  \n",
    "- **Missing Values:** In `total_bedrooms`  \n",
    "- **Categorical Column:** `ocean_proximity`"
   ]
  },
  {
   "cell_type": "markdown",
   "id": "45eb9746-04a0-43e6-9121-bc21e0a600a3",
   "metadata": {},
   "source": [
    "## Workflow Summary\n",
    "\n",
    "### Data Loading and Inspection\n",
    "- Loaded dataset using `pandas.read_excel`\n",
    "- Checked structure via `.info()` and `.describe()`\n",
    "- Previewed initial rows with `.head()`\n",
    "- Identified missing values and one categorical variable\n",
    "\n",
    "### Exploratory Data Analysis (EDA)\n",
    "- Used **matplotlib** and **seaborn** for visual analysis\n",
    "- Observed correlations between `median_income` and `median_house_value`\n",
    "- Confirmed regression nature of the problem (continuous target)\n",
    "\n",
    "### Data Preprocessing\n",
    "- Handled categorical column using **`pd.get_dummies`**\n",
    "- No scaling applied (original value ranges retained)\n",
    "- Missing values imputed\n",
    "- Prepared `X` (features) and `y` (target)\n",
    "\n",
    "### Model Building\n",
    "Implemented multiple models for performance comparison:\n",
    "\n",
    "| Model | Technique | Notes |\n",
    "|--------|------------|-------|\n",
    "| **Linear Regression** | Baseline model | Simple and interpretable |\n",
    "| **Ridge Regression** | L2 Regularization | Reduces overfitting |\n",
    "| **Lasso Regression** | L1 Regularization | Performs feature selection |\n",
    "| **Random Forest Regressor** | Ensemble Method | Captures non-linear relationships |\n",
    "\n",
    "### Model Tuning\n",
    "- Used **`GridSearchCV`** for Ridge and Lasso models  \n",
    "- Used both **`GridSearchCV`** and **`RandomizedSearchCV`** for Random Forest  \n",
    "- Compared hyperparameter configurations and cross-validation scores\n",
    "\n",
    "### Model Evaluation\n",
    "- Evaluated using:\n",
    "  - **Mean Absolute Error (MAE)**\n",
    "  - **Mean Squared Error (MSE)**\n",
    "  - **R² Score**\n",
    "- Visualized results and residuals using `matplotlib`/`seaborn`\n",
    "- Compared model performances on the test set\n",
    "\n",
    "---\n",
    "\n",
    "## Results Summary\n",
    "\n",
    "| Model | MAE | RMSE | R² |\n",
    "|--------|-----|------|----|\n",
    "| Linear Regression | Moderate | Moderate | Baseline |\n",
    "| Ridge Regression | Lower | Lower | Improved generalization |\n",
    "| Lasso Regression | Similar to Ridge | Similar | Feature selection |\n",
    "| Random Forest | Lowest | Lowest | Best performer overall |\n",
    "\n",
    "**Best Model:** RandomForestRegressor (after tuning)\n",
    "\n",
    "---\n",
    "\n",
    "## Key Learnings\n",
    "- End-to-end exposure to the **machine learning workflow**\n",
    "- Importance of **feature encoding** and **regularization**\n",
    "- How ensemble methods outperform linear models for non-linear data\n",
    "- Practical experience with **GridSearchCV** and **RandomizedSearchCV**\n",
    "- Interpreting **feature importances** to explain predictions\n",
    "\n",
    "---\n",
    "\n",
    "## Next Steps / Improvements\n",
    "- Implement **`ColumnTransformer` + `Pipeline`** for better reproducibility  \n",
    "- Add **feature engineering** (e.g., `rooms_per_household`, `bedrooms_per_room`)  \n",
    "- Introduce **feature scaling** and cross-validation on all models  \n",
    "- Save final model using `joblib.dump()`  \n",
    "- Extend to **XGBoost** or **LightGBM** for further accuracy\n",
    "\n",
    "---\n",
    "\n",
    "## Technologies Used\n",
    "- **Python 3.x**\n",
    "- **Pandas**, **NumPy**\n",
    "- **Scikit-learn**\n",
    "- **Matplotlib**, **Seaborn**\n",
    "- **Jupyter Notebook**\n",
    "\n",
    "---\n"
   ]
  },
  {
   "cell_type": "markdown",
   "id": "1023fc7e-f69b-47ba-9bdb-574c855c7910",
   "metadata": {},
   "source": [
    "----\n",
    "----\n",
    "# Detailed Workflow\n",
    "----\n",
    "----"
   ]
  },
  {
   "cell_type": "markdown",
   "id": "2f3dd9d5-a0b9-4b2f-bb7b-aaf61a2227e0",
   "metadata": {},
   "source": [
    "## Step 1: Data Loading and Inspection\n",
    "- Loaded dataset using `pandas.read_excel`\n",
    "- Checked structure via `.info()` and `.describe()`\n",
    "- Previewed initial rows with `.head()`\n",
    "- Identified missing values and one categorical variable"
   ]
  },
  {
   "cell_type": "code",
   "execution_count": 19,
   "id": "d3fbc99b-1ccf-4253-ad86-1b9038f32cd0",
   "metadata": {},
   "outputs": [
    {
     "name": "stdout",
     "output_type": "stream",
     "text": [
      "2.2.3\n"
     ]
    }
   ],
   "source": [
    "# Loaded dataset using pandas.read_excel\n",
    "# --------------------------------------\n",
    "import pandas as pd\n",
    "print(pd.__version__)\n",
    "# Load the Excel file\n",
    "df = pd.read_excel(\"data/California-Housing-Dataset.xlsx\", engine='openpyxl')"
   ]
  },
  {
   "cell_type": "code",
   "execution_count": 20,
   "id": "7f768922-a900-409d-8810-3e156506abf6",
   "metadata": {},
   "outputs": [
    {
     "name": "stdout",
     "output_type": "stream",
     "text": [
      "<class 'pandas.core.frame.DataFrame'>\n",
      "RangeIndex: 18565 entries, 0 to 18564\n",
      "Data columns (total 10 columns):\n",
      " #   Column              Non-Null Count  Dtype  \n",
      "---  ------              --------------  -----  \n",
      " 0   longitude           18565 non-null  float64\n",
      " 1   latitude            18565 non-null  float64\n",
      " 2   housing_median_age  18565 non-null  int64  \n",
      " 3   total_rooms         18565 non-null  int64  \n",
      " 4   total_bedrooms      18376 non-null  float64\n",
      " 5   population          18565 non-null  int64  \n",
      " 6   households          18565 non-null  int64  \n",
      " 7   median_income       18565 non-null  float64\n",
      " 8   median_house_value  18565 non-null  int64  \n",
      " 9   ocean_proximity     18565 non-null  object \n",
      "dtypes: float64(4), int64(5), object(1)\n",
      "memory usage: 1.4+ MB\n",
      "None\n"
     ]
    }
   ],
   "source": [
    "# Checked structure via .info(), .head() and .describe()\n",
    "# ------------------------------------------------------\n",
    "print(df.info())"
   ]
  },
  {
   "cell_type": "code",
   "execution_count": 22,
   "id": "61cc82b2-2aec-4102-8f2b-aa65606aae16",
   "metadata": {},
   "outputs": [
    {
     "name": "stdout",
     "output_type": "stream",
     "text": [
      "   longitude  latitude  housing_median_age  total_rooms  total_bedrooms  \\\n",
      "0    -122.23     37.88                  41          880           129.0   \n",
      "1    -122.22     37.86                  21         7099          1106.0   \n",
      "2    -122.25     37.85                  52         1627           280.0   \n",
      "3    -122.25     37.85                  52          919           213.0   \n",
      "4    -122.25     37.84                  52         2535           489.0   \n",
      "\n",
      "   population  households  median_income  median_house_value ocean_proximity  \n",
      "0         322         126         8.3252              452600        NEAR BAY  \n",
      "1        2401        1138         8.3014              358500        NEAR BAY  \n",
      "2         565         259         3.8462              342200        NEAR BAY  \n",
      "3         413         193         4.0368              269700        NEAR BAY  \n",
      "4        1094         514         3.6591              299200        NEAR BAY  \n"
     ]
    }
   ],
   "source": [
    "print(df.head())"
   ]
  },
  {
   "cell_type": "code",
   "execution_count": 23,
   "id": "a279d138-da80-4885-9ea7-e008b4c56224",
   "metadata": {},
   "outputs": [
    {
     "name": "stdout",
     "output_type": "stream",
     "text": [
      "          longitude      latitude  housing_median_age   total_rooms  \\\n",
      "count  18565.000000  18565.000000        18565.000000  18565.000000   \n",
      "mean    -119.570116     35.633888           28.615890   2634.033827   \n",
      "std        2.002922      2.137014           12.564224   2195.915548   \n",
      "min     -124.350000     32.540000            1.000000      2.000000   \n",
      "25%     -121.800000     33.930000           18.000000   1442.000000   \n",
      "50%     -118.500000     34.260000           29.000000   2123.000000   \n",
      "75%     -118.010000     37.710000           37.000000   3141.000000   \n",
      "max     -114.310000     41.950000           52.000000  39320.000000   \n",
      "\n",
      "       total_bedrooms    population    households  median_income  \\\n",
      "count    18376.000000  18565.000000  18565.000000   18565.000000   \n",
      "mean       537.711199   1426.223108    499.450902       3.867012   \n",
      "std        424.125849   1142.570832    384.553175       1.895988   \n",
      "min          2.000000      3.000000      2.000000       0.499900   \n",
      "25%        295.000000    786.000000    279.000000       2.561200   \n",
      "50%        434.000000   1166.000000    408.000000       3.534100   \n",
      "75%        646.000000   1725.000000    603.000000       4.741100   \n",
      "max       6445.000000  35682.000000   6082.000000      15.000100   \n",
      "\n",
      "       median_house_value  \n",
      "count        18565.000000  \n",
      "mean        206617.794991  \n",
      "std         115447.104881  \n",
      "min          14999.000000  \n",
      "25%         119300.000000  \n",
      "50%         179400.000000  \n",
      "75%         264400.000000  \n",
      "max         500001.000000  \n"
     ]
    }
   ],
   "source": [
    "print(df.describe())"
   ]
  },
  {
   "cell_type": "code",
   "execution_count": 24,
   "id": "8785bd4c-06ae-4f06-8697-971f8ab1966c",
   "metadata": {},
   "outputs": [
    {
     "name": "stdout",
     "output_type": "stream",
     "text": [
      "   longitude  latitude  housing_median_age  total_rooms  total_bedrooms  \\\n",
      "0    -122.23     37.88                  41          880           129.0   \n",
      "1    -122.22     37.86                  21         7099          1106.0   \n",
      "2    -122.25     37.85                  52         1627           280.0   \n",
      "3    -122.25     37.85                  52          919           213.0   \n",
      "4    -122.25     37.84                  52         2535           489.0   \n",
      "\n",
      "   population  households  median_income  median_house_value  \\\n",
      "0         322         126         8.3252              452600   \n",
      "1        2401        1138         8.3014              358500   \n",
      "2         565         259         3.8462              342200   \n",
      "3         413         193         4.0368              269700   \n",
      "4        1094         514         3.6591              299200   \n",
      "\n",
      "   ocean_proximity_INLAND  ocean_proximity_ISLAND  ocean_proximity_NEAR BAY  \\\n",
      "0                   False                   False                      True   \n",
      "1                   False                   False                      True   \n",
      "2                   False                   False                      True   \n",
      "3                   False                   False                      True   \n",
      "4                   False                   False                      True   \n",
      "\n",
      "   ocean_proximity_NEAR OCEAN  \n",
      "0                       False  \n",
      "1                       False  \n",
      "2                       False  \n",
      "3                       False  \n",
      "4                       False  \n"
     ]
    }
   ],
   "source": [
    "# Identified missing values and one categorical variable\n",
    "# ------------------------------------------------------\n",
    "# [! Demo blooper alert - This will run only once]\n",
    "# One-hot encode the 'ocean_proximity' column\n",
    "sorted(df['ocean_proximity'].unique())\n",
    "df = pd.get_dummies(df, columns=['ocean_proximity'], drop_first=True)\n",
    "\n",
    "# Display the first few rows to confirm the encoding\n",
    "print(df.head())\n",
    "# Verify the value conversion of ocean proximity to Binary"
   ]
  },
  {
   "cell_type": "markdown",
   "id": "bf71b19f-d3ef-4741-9b29-a35bff737814",
   "metadata": {},
   "source": [
    "### Step 2: Exploratory Data Analysis (EDA)\n",
    "- Used **matplotlib** and **seaborn** for visual analysis\n",
    "- Observed correlations between `median_income` and `median_house_value`\n",
    "- Confirmed regression nature of the problem (continuous target)"
   ]
  },
  {
   "cell_type": "code",
   "execution_count": null,
   "id": "dcda73ae-4198-475c-9875-af47cc5f3083",
   "metadata": {},
   "outputs": [],
   "source": []
  },
  {
   "cell_type": "code",
   "execution_count": null,
   "id": "4a0ed499-7f35-4824-b1e9-bb202f55e7db",
   "metadata": {},
   "outputs": [],
   "source": []
  },
  {
   "cell_type": "code",
   "execution_count": null,
   "id": "c7e01f05-b13e-4f3b-a3b1-8ccc9af0f4f9",
   "metadata": {},
   "outputs": [],
   "source": []
  },
  {
   "cell_type": "code",
   "execution_count": null,
   "id": "a839a9b8-f19b-4019-95a2-ba8bf56a968c",
   "metadata": {},
   "outputs": [],
   "source": []
  }
 ],
 "metadata": {
  "kernelspec": {
   "display_name": "Python 3 (ipykernel)",
   "language": "python",
   "name": "python3"
  },
  "language_info": {
   "codemirror_mode": {
    "name": "ipython",
    "version": 3
   },
   "file_extension": ".py",
   "mimetype": "text/x-python",
   "name": "python",
   "nbconvert_exporter": "python",
   "pygments_lexer": "ipython3",
   "version": "3.12.2"
  }
 },
 "nbformat": 4,
 "nbformat_minor": 5
}
